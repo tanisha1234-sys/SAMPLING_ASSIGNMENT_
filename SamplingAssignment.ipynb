{
  "nbformat": 4,
  "nbformat_minor": 0,
  "metadata": {
    "colab": {
      "provenance": [],
      "toc_visible": true
    },
    "kernelspec": {
      "name": "python3",
      "display_name": "Python 3"
    },
    "language_info": {
      "name": "python"
    }
  },
  "cells": [
    {
      "cell_type": "markdown",
      "source": [],
      "metadata": {
        "id": "PiVdRBmJ3yMD"
      }
    },
    {
      "cell_type": "code",
      "execution_count": null,
      "metadata": {
        "id": "pJQ6ixDy3XUN",
        "colab": {
          "base_uri": "https://localhost:8080/"
        },
        "outputId": "19e34654-8147-4623-dcc6-e370b07e0f58"
      },
      "outputs": [
        {
          "output_type": "stream",
          "name": "stdout",
          "text": [
            "Requirement already satisfied: imbalanced-learn in /usr/local/lib/python3.11/dist-packages (0.13.0)\n",
            "Requirement already satisfied: numpy<3,>=1.24.3 in /usr/local/lib/python3.11/dist-packages (from imbalanced-learn) (1.26.4)\n",
            "Requirement already satisfied: scipy<2,>=1.10.1 in /usr/local/lib/python3.11/dist-packages (from imbalanced-learn) (1.13.1)\n",
            "Requirement already satisfied: scikit-learn<2,>=1.3.2 in /usr/local/lib/python3.11/dist-packages (from imbalanced-learn) (1.6.0)\n",
            "Requirement already satisfied: sklearn-compat<1,>=0.1 in /usr/local/lib/python3.11/dist-packages (from imbalanced-learn) (0.1.3)\n",
            "Requirement already satisfied: joblib<2,>=1.1.1 in /usr/local/lib/python3.11/dist-packages (from imbalanced-learn) (1.4.2)\n",
            "Requirement already satisfied: threadpoolctl<4,>=2.0.0 in /usr/local/lib/python3.11/dist-packages (from imbalanced-learn) (3.5.0)\n"
          ]
        }
      ],
      "source": [
        "!pip install imbalanced-learn\n",
        "import pandas as pd\n",
        "from collections import Counter\n",
        "from imblearn.under_sampling import RandomUnderSampler, TomekLinks, NearMiss\n",
        "from imblearn.over_sampling import SMOTE, RandomOverSampler\n",
        "from sklearn.ensemble import RandomForestClassifier, GradientBoostingClassifier\n",
        "from sklearn.tree import DecisionTreeClassifier\n",
        "from sklearn.linear_model import LogisticRegression\n",
        "from xgboost import XGBClassifier\n",
        "from sklearn.model_selection import train_test_split\n",
        "from sklearn.metrics import accuracy_score\n",
        "from imblearn.under_sampling import RandomUnderSampler, TomekLinks, NearMiss\n",
        "from imblearn.over_sampling import SMOTE, RandomOverSampler\n",
        "from sklearn.ensemble import RandomForestClassifier, GradientBoostingClassifier\n",
        "from sklearn.tree import DecisionTreeClassifier\n",
        "from sklearn.linear_model import LogisticRegression\n",
        "from xgboost import XGBClassifier\n",
        "from sklearn.model_selection import train_test_split\n",
        "from sklearn.metrics import accuracy_score"
      ]
    },
    {
      "cell_type": "code",
      "source": [
        "dataset = pd.read_csv('/content/Creditcard_data.csv')"
      ],
      "metadata": {
        "id": "zl8X_M7q36HI"
      },
      "execution_count": null,
      "outputs": []
    },
    {
      "cell_type": "code",
      "source": [
        "X = dataset.drop('Class', axis=1)\n",
        "y = dataset['Class']"
      ],
      "metadata": {
        "id": "HisFv39F4ZJ9"
      },
      "execution_count": null,
      "outputs": []
    },
    {
      "cell_type": "code",
      "source": [
        "def random_undersampler(x, y):\n",
        "    r_under = RandomUnderSampler(random_state=42, replacement=True)\n",
        "    x_r_under, y_r_under = r_under.fit_resample(x, y)\n",
        "    return x_r_under, y_r_under\n",
        "\n",
        "def random_oversampler(x, y):\n",
        "    r_over = RandomOverSampler(random_state=42)\n",
        "    x_r_over, y_r_over = r_over.fit_resample(x, y)\n",
        "    return x_r_over, y_r_over\n",
        "\n",
        "def tomek_links_sampling(x, y):\n",
        "    t_link = TomekLinks()\n",
        "    x_t_link, y_t_link = t_link.fit_resample(x, y)\n",
        "    return x_t_link, y_t_link\n",
        "\n",
        "def smote_sampling(x, y):\n",
        "    smote = SMOTE(random_state=42)\n",
        "    x_smote, y_smote = smote.fit_resample(x, y)\n",
        "    return x_smote, y_smote\n",
        "\n",
        "def nearmiss_sampling(x, y):\n",
        "    near_miss = NearMiss()\n",
        "    x_near_miss, y_near_miss = near_miss.fit_resample(x, y)\n",
        "    return x_near_miss, y_near_miss"
      ],
      "metadata": {
        "id": "YlpLZ-_s4jJX"
      },
      "execution_count": null,
      "outputs": []
    },
    {
      "cell_type": "code",
      "source": [
        "def logistic_regression(X, y):\n",
        "    X_train, X_test, y_train, y_test = train_test_split(X, y, test_size=0.3, random_state=42)\n",
        "    model = LogisticRegression(max_iter=500)\n",
        "    model.fit(X_train, y_train)\n",
        "    y_pred = model.predict(X_test)\n",
        "    return accuracy_score(y_test, y_pred)\n",
        "\n",
        "def decision_tree(X, y):\n",
        "    X_train, X_test, y_train, y_test = train_test_split(X, y, test_size=0.3, random_state=42)\n",
        "    model = DecisionTreeClassifier(random_state=42)\n",
        "    model.fit(X_train, y_train)\n",
        "    y_pred = model.predict(X_test)\n",
        "    return accuracy_score(y_test, y_pred)\n",
        "\n",
        "def random_forest(X, y):\n",
        "    X_train, X_test, y_train, y_test = train_test_split(X, y, test_size=0.3, random_state=42)\n",
        "    model = RandomForestClassifier(random_state=42)\n",
        "    model.fit(X_train, y_train)\n",
        "    y_pred = model.predict(X_test)\n",
        "    return accuracy_score(y_test, y_pred)\n",
        "\n",
        "def gradient_boosting(X, y):\n",
        "    X_train, X_test, y_train, y_test =train_test_split(X, y, test_size=0.3, random_state=42)\n",
        "    model = GradientBoostingClassifier(random_state=42)\n",
        "    model.fit(X_train, y_train)\n",
        "    y_pred = model.predict(X_test)\n",
        "    return accuracy_score(y_test, y_pred)\n",
        "\n",
        "def xgboost(X, y):\n",
        "    X_train, X_test, y_train, y_test = train_test_split(X, y, test_size=0.3, random_state=42)\n",
        "    model = XGBClassifier(use_label_encoder=False, eval_metric='logloss', random_state=42)\n",
        "    model.fit(X_train, y_train)\n",
        "    y_pred = model.predict(X_test)\n",
        "    return accuracy_score(y_test, y_pred)\n"
      ],
      "metadata": {
        "id": "28q7y30JGxYL"
      },
      "execution_count": null,
      "outputs": []
    },
    {
      "cell_type": "code",
      "source": [
        "sampling_techniques = [\n",
        "    random_undersampler,\n",
        "    random_oversampler,\n",
        "    tomek_links_sampling,\n",
        "    smote_sampling,\n",
        "    nearmiss_sampling,\n",
        "]\n",
        "models = [\n",
        "    logistic_regression,\n",
        "    decision_tree,\n",
        "    random_forest,\n",
        "    gradient_boosting,\n",
        "    xgboost,\n",
        "]\n"
      ],
      "metadata": {
        "id": "gHwRaCDOHCJn"
      },
      "execution_count": null,
      "outputs": []
    },
    {
      "cell_type": "code",
      "source": [
        "results_matrix = []\n",
        "rows_mat=[\"undersampler\",\"oversampler\",\"tomek\",\"smote\",\"nearmiss\"]\n",
        "columns_mat=[\"LR\",\"DT\",\"RF\",\"GB\",\"XGB\"]\n",
        "for i, sampling_techniques in enumerate([random_undersampler,random_oversampler,tomek_links_sampling,smote_sampling,nearmiss_sampling]):\n",
        "    row=[]\n",
        "    for j, model in enumerate([logistic_regression, decision_tree, random_forest, gradient_boosting,xgboost]):\n",
        "\n",
        "        sampled_X,sampled_y = sampling_techniques(X,y)\n",
        "\n",
        "        accuracy = model(sampled_X, sampled_y)\n",
        "\n",
        "        row.append(accuracy)\n",
        "    results_matrix.append(row)\n",
        "\n",
        "df = pd.DataFrame(results_matrix,columns=columns_mat,index=list(rows_mat))\n",
        "print(df)"
      ],
      "metadata": {
        "colab": {
          "base_uri": "https://localhost:8080/"
        },
        "id": "PoUUVgDnH3qD",
        "outputId": "8dc7b5e2-927d-4e47-9167-67ca654da98e"
      },
      "execution_count": null,
      "outputs": [
        {
          "output_type": "stream",
          "name": "stderr",
          "text": [
            "/usr/local/lib/python3.11/dist-packages/xgboost/core.py:158: UserWarning: [10:05:01] WARNING: /workspace/src/learner.cc:740: \n",
            "Parameters: { \"use_label_encoder\" } are not used.\n",
            "\n",
            "  warnings.warn(smsg, UserWarning)\n",
            "/usr/local/lib/python3.11/dist-packages/sklearn/linear_model/_logistic.py:465: ConvergenceWarning: lbfgs failed to converge (status=1):\n",
            "STOP: TOTAL NO. of ITERATIONS REACHED LIMIT.\n",
            "\n",
            "Increase the number of iterations (max_iter) or scale the data as shown in:\n",
            "    https://scikit-learn.org/stable/modules/preprocessing.html\n",
            "Please also refer to the documentation for alternative solver options:\n",
            "    https://scikit-learn.org/stable/modules/linear_model.html#logistic-regression\n",
            "  n_iter_i = _check_optimize_result(\n",
            "/usr/local/lib/python3.11/dist-packages/xgboost/core.py:158: UserWarning: [10:05:06] WARNING: /workspace/src/learner.cc:740: \n",
            "Parameters: { \"use_label_encoder\" } are not used.\n",
            "\n",
            "  warnings.warn(smsg, UserWarning)\n",
            "/usr/local/lib/python3.11/dist-packages/xgboost/core.py:158: UserWarning: [10:05:14] WARNING: /workspace/src/learner.cc:740: \n",
            "Parameters: { \"use_label_encoder\" } are not used.\n",
            "\n",
            "  warnings.warn(smsg, UserWarning)\n",
            "/usr/local/lib/python3.11/dist-packages/sklearn/linear_model/_logistic.py:465: ConvergenceWarning: lbfgs failed to converge (status=1):\n",
            "STOP: TOTAL NO. of ITERATIONS REACHED LIMIT.\n",
            "\n",
            "Increase the number of iterations (max_iter) or scale the data as shown in:\n",
            "    https://scikit-learn.org/stable/modules/preprocessing.html\n",
            "Please also refer to the documentation for alternative solver options:\n",
            "    https://scikit-learn.org/stable/modules/linear_model.html#logistic-regression\n",
            "  n_iter_i = _check_optimize_result(\n",
            "/usr/local/lib/python3.11/dist-packages/xgboost/core.py:158: UserWarning: [10:05:21] WARNING: /workspace/src/learner.cc:740: \n",
            "Parameters: { \"use_label_encoder\" } are not used.\n",
            "\n",
            "  warnings.warn(smsg, UserWarning)\n"
          ]
        },
        {
          "output_type": "stream",
          "name": "stdout",
          "text": [
            "                    LR        DT        RF        GB       XGB\n",
            "undersampler  0.833333  0.500000  0.666667  0.500000  0.500000\n",
            "oversampler   0.917031  0.989083  1.000000  0.993450  0.993450\n",
            "tomek         0.986957  0.982609  0.986957  0.986957  0.986957\n",
            "smote         0.901747  0.978166  0.993450  0.986900  0.984716\n",
            "nearmiss      0.500000  0.166667  0.166667  0.166667  0.166667\n"
          ]
        },
        {
          "output_type": "stream",
          "name": "stderr",
          "text": [
            "/usr/local/lib/python3.11/dist-packages/xgboost/core.py:158: UserWarning: [10:05:22] WARNING: /workspace/src/learner.cc:740: \n",
            "Parameters: { \"use_label_encoder\" } are not used.\n",
            "\n",
            "  warnings.warn(smsg, UserWarning)\n"
          ]
        }
      ]
    },
    {
      "cell_type": "code",
      "source": [],
      "metadata": {
        "id": "5vmGcpS0QvmP"
      },
      "execution_count": null,
      "outputs": []
    }
  ]
}